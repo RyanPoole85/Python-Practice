{
 "cells": [
  {
   "cell_type": "markdown",
   "id": "95f48f8e",
   "metadata": {},
   "source": [
    "Prompt the user for a day of the week, print out whether the day is Monday or not\n",
    "\n",
    "Prompt the user for a day of the week, print out whether the day is a weekday or a weekend\n",
    "\n",
    "Calculate a weekly paycheck, accounting for overtime pay. Create variables and make up values for:\n",
    "\n",
    "The number of hours worked in one week The hourly rate For calculating pay:\n",
    "\n",
    "For working 40 hours or less, each hour is paid at the hourly rate For working more than 40 hours\n",
    "\n",
    "the first 40 hours are paid at the hourly rate\n",
    "\n",
    "each hour after 40 is paid at time and a half (hourly rate * 1.5)"
   ]
  },
  {
   "cell_type": "code",
   "execution_count": 7,
   "id": "0913d1d4",
   "metadata": {},
   "outputs": [
    {
     "name": "stdout",
     "output_type": "stream",
     "text": [
      "What day of the week is it?monday\n",
      "Today is Monday.\n"
     ]
    }
   ],
   "source": [
    "day_of_week = input(\"What day of the week is it?\")\n",
    "if day_of_week.lower() == \"monday\":\n",
    "    print(\"Today is Monday.\")\n",
    "else:\n",
    "    print(\"Today is not Monday.\")"
   ]
  },
  {
   "cell_type": "code",
   "execution_count": 8,
   "id": "a66d44ef",
   "metadata": {},
   "outputs": [
    {
     "name": "stdout",
     "output_type": "stream",
     "text": [
      "What day of the week is it?saturday\n",
      "It's the weekend!\n"
     ]
    }
   ],
   "source": [
    "day_of_the_week = input(\"What day of the week is it?\")\n",
    "if day_of_the_week.lower() in ['saturday', 'sunday']:\n",
    "    print(\"It\\'s the weekend!\")\n",
    "else:\n",
    "    print(\"It\\'s not the weekend.\")"
   ]
  },
  {
   "cell_type": "code",
   "execution_count": 81,
   "id": "0f280e1c",
   "metadata": {},
   "outputs": [
    {
     "name": "stdout",
     "output_type": "stream",
     "text": [
      "Your weekly pay is 2800\n"
     ]
    }
   ],
   "source": [
    "hours_worked = 40\n",
    "hourly_pay = 70\n",
    "\n",
    "if hours_worked <= 40:\n",
    "    weekly_paycheck = hours_worked * hourly_pay\n",
    "else:\n",
    "    overtime_hours = hours_worked - 40\n",
    "    weekly_paycheck = overtime_hours * hourly_pay * 1.5 + 40 * hourly_pay\n",
    "    \n",
    "    \n",
    "print(\"Your weekly pay is\", weekly_paycheck)\n"
   ]
  },
  {
   "cell_type": "code",
   "execution_count": 82,
   "id": "20a36398",
   "metadata": {},
   "outputs": [
    {
     "name": "stdout",
     "output_type": "stream",
     "text": [
      "11760.0\n"
     ]
    }
   ],
   "source": [
    "month_pay = weekly_paycheck * 4.2\n",
    "print(month_pay)"
   ]
  },
  {
   "cell_type": "code",
   "execution_count": 84,
   "id": "7883c22a",
   "metadata": {},
   "outputs": [
    {
     "name": "stdout",
     "output_type": "stream",
     "text": [
      "145600\n"
     ]
    }
   ],
   "source": [
    "annual_pay = weekly_paycheck * 52\n",
    "print(annual_pay)"
   ]
  },
  {
   "cell_type": "code",
   "execution_count": null,
   "id": "8d0295c8",
   "metadata": {},
   "outputs": [],
   "source": []
  }
 ],
 "metadata": {
  "kernelspec": {
   "display_name": "Python 3 (ipykernel)",
   "language": "python",
   "name": "python3"
  },
  "language_info": {
   "codemirror_mode": {
    "name": "ipython",
    "version": 3
   },
   "file_extension": ".py",
   "mimetype": "text/x-python",
   "name": "python",
   "nbconvert_exporter": "python",
   "pygments_lexer": "ipython3",
   "version": "3.11.5"
  }
 },
 "nbformat": 4,
 "nbformat_minor": 5
}
