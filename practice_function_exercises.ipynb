{
 "cells": [
  {
   "cell_type": "markdown",
   "id": "cdf87545",
   "metadata": {},
   "source": [
    "1. Define a function named is_two. It should accept one input and return True if the passed input is either the number or the string 2, False otherwise."
   ]
  },
  {
   "cell_type": "code",
   "execution_count": 78,
   "id": "1b260b1e",
   "metadata": {},
   "outputs": [
    {
     "data": {
      "text/plain": [
       "True"
      ]
     },
     "execution_count": 78,
     "metadata": {},
     "output_type": "execute_result"
    }
   ],
   "source": [
    "def is_two(input):\n",
    "    return input == 2 or input == '2'\n",
    "\n",
    "is_two(2)"
   ]
  },
  {
   "cell_type": "code",
   "execution_count": 79,
   "id": "0425c1d1",
   "metadata": {},
   "outputs": [
    {
     "data": {
      "text/plain": [
       "False"
      ]
     },
     "execution_count": 79,
     "metadata": {},
     "output_type": "execute_result"
    }
   ],
   "source": [
    "is_two(7)"
   ]
  },
  {
   "cell_type": "markdown",
   "id": "9dc4eff0",
   "metadata": {},
   "source": [
    "2. Define a function named is_vowel. It should return True if the passed string is a vowel, False otherwise."
   ]
  },
  {
   "cell_type": "code",
   "execution_count": 80,
   "id": "41ed0a8f",
   "metadata": {},
   "outputs": [
    {
     "data": {
      "text/plain": [
       "False"
      ]
     },
     "execution_count": 80,
     "metadata": {},
     "output_type": "execute_result"
    }
   ],
   "source": [
    "def is_vowel(input):\n",
    "    vowels = 'aieouAEIOU'\n",
    "    return input in vowels\n",
    "\n",
    "is_vowel('t')"
   ]
  },
  {
   "cell_type": "code",
   "execution_count": 81,
   "id": "0f1ee2cd",
   "metadata": {},
   "outputs": [
    {
     "data": {
      "text/plain": [
       "True"
      ]
     },
     "execution_count": 81,
     "metadata": {},
     "output_type": "execute_result"
    }
   ],
   "source": [
    "is_vowel('i')"
   ]
  },
  {
   "cell_type": "markdown",
   "id": "745902a9",
   "metadata": {},
   "source": [
    "3. Define a function named is_consonant. It should return True if the passed string is a consonant, False otherwise. Use your is_vowel function to accomplish this."
   ]
  },
  {
   "cell_type": "code",
   "execution_count": 82,
   "id": "44699d91",
   "metadata": {},
   "outputs": [
    {
     "data": {
      "text/plain": [
       "True"
      ]
     },
     "execution_count": 82,
     "metadata": {},
     "output_type": "execute_result"
    }
   ],
   "source": [
    "def is_consonant(input):\n",
    "    return not is_vowel(input)\n",
    "\n",
    "is_consonant('s')"
   ]
  },
  {
   "cell_type": "code",
   "execution_count": 83,
   "id": "1a7cb51e",
   "metadata": {},
   "outputs": [
    {
     "data": {
      "text/plain": [
       "False"
      ]
     },
     "execution_count": 83,
     "metadata": {},
     "output_type": "execute_result"
    }
   ],
   "source": [
    "is_consonant('i')"
   ]
  },
  {
   "cell_type": "markdown",
   "id": "9432097a",
   "metadata": {},
   "source": [
    "4. Define a function that accepts a string that is a word. The function should capitalize the first letter of the word if the word starts with a consonant."
   ]
  },
  {
   "cell_type": "code",
   "execution_count": 84,
   "id": "2239e43a",
   "metadata": {},
   "outputs": [
    {
     "data": {
      "text/plain": [
       "'Football'"
      ]
     },
     "execution_count": 84,
     "metadata": {},
     "output_type": "execute_result"
    }
   ],
   "source": [
    "def capitalize_consonant(input):\n",
    "    vowels = 'aeiouAEIOU'\n",
    "    if input and input[0] not in vowels:\n",
    "        return input[0].upper() + input[1:]\n",
    "    else:\n",
    "        return input\n",
    "    \n",
    "capitalize_consonant(\"football\")\n"
   ]
  },
  {
   "cell_type": "code",
   "execution_count": 85,
   "id": "2ee086dd",
   "metadata": {},
   "outputs": [
    {
     "data": {
      "text/plain": [
       "'astronaut'"
      ]
     },
     "execution_count": 85,
     "metadata": {},
     "output_type": "execute_result"
    }
   ],
   "source": [
    "capitalize_consonant(\"astronaut\")"
   ]
  },
  {
   "cell_type": "markdown",
   "id": "17534936",
   "metadata": {},
   "source": [
    "5. Define a function named calculate_tip. It should accept a tip percentage (a number between 0 and 1) and the bill total, and return the amount to tip."
   ]
  },
  {
   "cell_type": "code",
   "execution_count": 39,
   "id": "6b7e7bdc",
   "metadata": {},
   "outputs": [
    {
     "data": {
      "text/plain": [
       "5.25"
      ]
     },
     "execution_count": 39,
     "metadata": {},
     "output_type": "execute_result"
    }
   ],
   "source": [
    "def calculate_tip(tip_percentage, bill_total):\n",
    "    if 0 <= tip_percentage <= 1:\n",
    "        return tip_percentage * bill_total\n",
    "    else:\n",
    "        return \"Invalid tip percentage\"\n",
    "    \n",
    "calculate_tip(0.15,35)"
   ]
  },
  {
   "cell_type": "markdown",
   "id": "4e5563c0",
   "metadata": {},
   "source": [
    "6. Define a function named apply_discount. It should accept a original price, and a discount percentage, and return the price after the discount is applied."
   ]
  },
  {
   "cell_type": "code",
   "execution_count": 41,
   "id": "9c93f576",
   "metadata": {},
   "outputs": [
    {
     "data": {
      "text/plain": [
       "42.0"
      ]
     },
     "execution_count": 41,
     "metadata": {},
     "output_type": "execute_result"
    }
   ],
   "source": [
    "def apply_discount(original_price, discount_percentage):\n",
    "    if 0 <= discount_percentage <=1:\n",
    "        discount_amount = original_price * discount_percentage \n",
    "        return original_price - discount_amount \n",
    "    \n",
    "apply_discount(56, 0.25)"
   ]
  },
  {
   "cell_type": "markdown",
   "id": "b464f0b9",
   "metadata": {},
   "source": [
    "7. Define a function named handle_commas. It should accept a string that is a number that contains commas in it as input, and return a number as output."
   ]
  },
  {
   "cell_type": "code",
   "execution_count": 91,
   "id": "6a3522bf",
   "metadata": {},
   "outputs": [
    {
     "data": {
      "text/plain": [
       "5657434.0"
      ]
     },
     "execution_count": 91,
     "metadata": {},
     "output_type": "execute_result"
    }
   ],
   "source": [
    "def handle_commas(number_str):\n",
    "    \n",
    "    number_str = number_str.replace(',', '')\n",
    "    try:\n",
    "        number = float(number_str)\n",
    "        return number\n",
    "    except ValueError:\n",
    "        return \"Invalid input\"\n",
    "    \n",
    "handle_commas('5,657,434')"
   ]
  },
  {
   "cell_type": "markdown",
   "id": "e4fd204d",
   "metadata": {},
   "source": [
    "8. Define a function named get_letter_grade. It should accept a number and return the letter grade associated with that number (A-F)."
   ]
  },
  {
   "cell_type": "code",
   "execution_count": 64,
   "id": "7c79df1b",
   "metadata": {},
   "outputs": [
    {
     "data": {
      "text/plain": [
       "'A'"
      ]
     },
     "execution_count": 64,
     "metadata": {},
     "output_type": "execute_result"
    }
   ],
   "source": [
    "def get_letter_grade(numerical_grade):\n",
    "    if 90 <= numerical_grade <= 100:\n",
    "        return 'A'\n",
    "    elif 80 <= numerical_grade < 90:\n",
    "        return 'B'\n",
    "    elif 70 <= numerical_grade < 80:\n",
    "        return 'C'\n",
    "    elif 60 <= numerical_grade < 70:\n",
    "        return 'D'\n",
    "    elif 0 <= numerical_grade < 60:\n",
    "        return 'F'\n",
    "    else:\n",
    "        return 'Invalid'\n",
    "\n",
    "get_letter_grade(99)"
   ]
  },
  {
   "cell_type": "markdown",
   "id": "b8e5ede3",
   "metadata": {},
   "source": [
    "9. Define a function named remove_vowels that accepts a string and returns a string with all the vowels removed."
   ]
  },
  {
   "cell_type": "code",
   "execution_count": 55,
   "id": "3c706167",
   "metadata": {},
   "outputs": [
    {
     "data": {
      "text/plain": [
       "'Cdp Dt Scnc'"
      ]
     },
     "execution_count": 55,
     "metadata": {},
     "output_type": "execute_result"
    }
   ],
   "source": [
    "def remove_vowels(input_string):\n",
    "    vowels = \"AEIOUaeiou\" \n",
    "    return ''.join(char for char in input_string if char not in vowels)\n",
    "\n",
    "remove_vowels('Codeup Data Science')"
   ]
  },
  {
   "cell_type": "markdown",
   "id": "da649af2",
   "metadata": {},
   "source": [
    "10. Define a function named normalize_name. It should accept a string and return a valid python identifier, that is:\n",
    "anything that is not a valid python identifier should be removed\n",
    "leading and trailing whitespace should be removed\n",
    "everything should be lowercase\n",
    "spaces should be replaced with underscores\n",
    "for example:\n",
    "Name will become name\n",
    "First Name will become first_name\n",
    "% Completed will become completed"
   ]
  },
  {
   "cell_type": "code",
   "execution_count": 59,
   "id": "8bba6abd",
   "metadata": {},
   "outputs": [
    {
     "data": {
      "text/plain": [
       "'ryan_poole'"
      ]
     },
     "execution_count": 59,
     "metadata": {},
     "output_type": "execute_result"
    }
   ],
   "source": [
    "def normalize_name(input_string):\n",
    "    # Remove leading and trailing whitespace, lowercase the string, and replace spaces with underscores\n",
    "    normalized_string = input_string.strip().lower().replace(\" \", \"_\")\n",
    "    \n",
    "    # Remove any non-alphanumeric and non-underscore characters\n",
    "    normalized_string = ''.join(char for char in normalized_string if char.isalnum() or char == '_')\n",
    "    \n",
    "    return normalized_string\n",
    "\n",
    "normalize_name('Ryan Poole')\n"
   ]
  },
  {
   "cell_type": "markdown",
   "id": "64182706",
   "metadata": {},
   "source": [
    "11. Write a function named cumulative_sum that accepts a list of numbers and returns a list that is the cumulative sum of the numbers in the list.\n",
    "cumulative_sum([1, 1, 1]) returns [1, 2, 3]\n",
    "cumulative_sum([1, 2, 3, 4]) returns [1, 3, 6, 10]"
   ]
  },
  {
   "cell_type": "code",
   "execution_count": 67,
   "id": "91897f79",
   "metadata": {},
   "outputs": [
    {
     "data": {
      "text/plain": [
       "[1, 6, 16, 31]"
      ]
     },
     "execution_count": 67,
     "metadata": {},
     "output_type": "execute_result"
    }
   ],
   "source": [
    "def cumulative_sum(numbers):\n",
    "    cumulative = []\n",
    "    total = 0\n",
    "\n",
    "    for num in numbers:\n",
    "        total += num\n",
    "        cumulative.append(total)\n",
    "\n",
    "    return cumulative\n",
    "\n",
    "cumulative_sum([1, 5, 10, 15])\n"
   ]
  },
  {
   "cell_type": "markdown",
   "id": "466de4d6",
   "metadata": {},
   "source": [
    "Bonus\n",
    "Create a function named twelveto24. It should accept a string in the format 10:45am or 4:30pm and return a string that is the representation of the time in a 24-hour format. Bonus write a function that does the opposite."
   ]
  },
  {
   "cell_type": "code",
   "execution_count": 77,
   "id": "c3ef1b0f",
   "metadata": {},
   "outputs": [
    {
     "data": {
      "text/plain": [
       "'19:25'"
      ]
     },
     "execution_count": 77,
     "metadata": {},
     "output_type": "execute_result"
    }
   ],
   "source": [
    "def twelveto24(time_str):\n",
    "    if time_str[-2:].lower() == 'am':\n",
    "        if time_str[:2] == '12':\n",
    "            return '00' + time_str[2:-2]\n",
    "        else:\n",
    "            return time_str[:-2]\n",
    "    else:  \n",
    "        if time_str[:2] == '12':\n",
    "            return time_str[:-2]\n",
    "        else:\n",
    "            hour = int(time_str[:2]) + 12\n",
    "            return str(hour) + time_str[2:-2]\n",
    "\n",
    "\n",
    "twelveto24(\"07:25pm\")"
   ]
  },
  {
   "cell_type": "code",
   "execution_count": 86,
   "id": "97fbb08c",
   "metadata": {},
   "outputs": [
    {
     "data": {
      "text/plain": [
       "'07:25'"
      ]
     },
     "execution_count": 86,
     "metadata": {},
     "output_type": "execute_result"
    }
   ],
   "source": [
    "twelveto24(\"07:25am\")"
   ]
  },
  {
   "cell_type": "markdown",
   "id": "4e0f8c44",
   "metadata": {},
   "source": [
    "Create a function named col_index. It should accept a spreadsheet column name, and return the index number of the column.\n",
    "col_index('A') returns 1\n",
    "col_index('B') returns 2\n",
    "col_index('AA') returns 27"
   ]
  },
  {
   "cell_type": "code",
   "execution_count": 90,
   "id": "b82a0a97",
   "metadata": {},
   "outputs": [
    {
     "name": "stdout",
     "output_type": "stream",
     "text": [
      "1\n",
      "2\n",
      "27\n"
     ]
    }
   ],
   "source": [
    "def col_index(column_name):\n",
    "    column_name = column_name.upper()\n",
    "    index = 0\n",
    "\n",
    "    for char in column_name:\n",
    "        index = index * 26 + (ord(char) - ord('A') + 1)\n",
    "\n",
    "    return index\n",
    "\n",
    "print(col_index('A'))\n",
    "\n",
    "print(col_index('B'))\n",
    "\n",
    "print(col_index('AA'))"
   ]
  }
 ],
 "metadata": {
  "kernelspec": {
   "display_name": "Python 3 (ipykernel)",
   "language": "python",
   "name": "python3"
  },
  "language_info": {
   "codemirror_mode": {
    "name": "ipython",
    "version": 3
   },
   "file_extension": ".py",
   "mimetype": "text/x-python",
   "name": "python",
   "nbconvert_exporter": "python",
   "pygments_lexer": "ipython3",
   "version": "3.11.5"
  }
 },
 "nbformat": 4,
 "nbformat_minor": 5
}
