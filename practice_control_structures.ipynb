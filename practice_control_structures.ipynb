{
 "cells": [
  {
   "cell_type": "code",
   "execution_count": 2,
   "id": "1d1538a2",
   "metadata": {},
   "outputs": [
    {
     "name": "stdout",
     "output_type": "stream",
     "text": [
      " It is even\n"
     ]
    }
   ],
   "source": [
    "def odd_or_even(x):\n",
    "    if x % 2 == 0:\n",
    "        print(f\" It is even\")\n",
    "    elif x % 2 == 1:\n",
    "        print(f\" It is odd\")\n",
    "    else:\n",
    "        print(f\" Invalid input\")\n",
    "        \n",
    "odd_or_even(314)"
   ]
  },
  {
   "cell_type": "code",
   "execution_count": 3,
   "id": "0122bf7b",
   "metadata": {},
   "outputs": [
    {
     "name": "stdout",
     "output_type": "stream",
     "text": [
      " It is odd\n"
     ]
    }
   ],
   "source": [
    "odd_or_even(433)"
   ]
  },
  {
   "cell_type": "code",
   "execution_count": 6,
   "id": "4ce9a5c7",
   "metadata": {},
   "outputs": [
    {
     "name": "stdout",
     "output_type": "stream",
     "text": [
      " It is odd\n"
     ]
    }
   ],
   "source": [
    "odd_or_even(-1)"
   ]
  },
  {
   "cell_type": "code",
   "execution_count": 7,
   "id": "d7939f17",
   "metadata": {},
   "outputs": [
    {
     "name": "stdout",
     "output_type": "stream",
     "text": [
      " It is even\n"
     ]
    }
   ],
   "source": [
    "odd_or_even(6)"
   ]
  },
  {
   "cell_type": "markdown",
   "id": "4d70c992",
   "metadata": {},
   "source": [
    "Prompt the user for a day of the week, print out whether the day is Monday or not"
   ]
  },
  {
   "cell_type": "code",
   "execution_count": 8,
   "id": "00dd939d",
   "metadata": {},
   "outputs": [
    {
     "name": "stdout",
     "output_type": "stream",
     "text": [
      "Enter what day of the week it is: 'Tuesday'\n",
      "It's not Monday\n",
      "Enter what day of the week it is: 'Monday'\n",
      "It's not Monday\n",
      "Enter what day of the week it is: 'monday'\n",
      "It's not Monday\n",
      "Enter what day of the week it is: monday\n",
      "It's Monday\n"
     ]
    }
   ],
   "source": [
    "while True:\n",
    "    user_input = input('Enter what day of the week it is: ')\n",
    "    if user_input.lower() == 'monday':\n",
    "        print('It\\'s Monday')\n",
    "        break\n",
    "    else:\n",
    "        print('It\\'s not Monday')"
   ]
  },
  {
   "cell_type": "code",
   "execution_count": null,
   "id": "3ad424f4",
   "metadata": {},
   "outputs": [],
   "source": []
  },
  {
   "cell_type": "markdown",
   "id": "77b12830",
   "metadata": {},
   "source": [
    "Prompt the user for a day of the week, print out whether the day is a weekday or a weekend"
   ]
  },
  {
   "cell_type": "markdown",
   "id": "ca3b3096",
   "metadata": {},
   "source": [
    "Calculate a weekly paycheck, accounting for overtime pay. Create variables and make up values for:\n",
    "\n",
    "The number of hours worked in one week\n",
    "The hourly rate\n",
    "For calculating pay:\n",
    "\n",
    "For working 40 hours or less, each hour is paid at the hourly rate\n",
    "For working more than 40 hours\n",
    "\n",
    "the first 40 hours are paid at the hourly rate\n",
    "\n",
    "each hour after 40 is paid at time and a half (hourly rate * 1.5)"
   ]
  },
  {
   "cell_type": "code",
   "execution_count": 10,
   "id": "7ef3cd65",
   "metadata": {},
   "outputs": [
    {
     "data": {
      "text/plain": [
       "1660.0"
      ]
     },
     "execution_count": 10,
     "metadata": {},
     "output_type": "execute_result"
    }
   ],
   "source": [
    "hours_worked = 40\n",
    "hourly_rate = 41.5\n",
    "\n",
    "if hours_worked > 40:\n",
    "    overtime_hours = hours_worked - 40\n",
    "    overtime_pay = overtime_hours * hourly_rate * 1.5\n",
    "    regular_pay = 40 * hourly_rate\n",
    "    pay = regular_pay + overtime_pay\n",
    "else:\n",
    "    pay = hours_worked * hourly_rate\n",
    "    \n",
    "pay"
   ]
  },
  {
   "cell_type": "markdown",
   "id": "eba5f67c",
   "metadata": {},
   "source": [
    "While\n",
    "\n",
    "Create an integer variable i with a value of 5. Create a while loop that runs so long as i is less than or equal to 15. Each loop iteration, output the current value of i, then increment i by one.\n",
    "Your output should look like this:\n",
    "\n",
    "\n",
    "5\n",
    "6\n",
    "7\n",
    "8\n",
    "9\n",
    "10\n",
    "11\n",
    "12\n",
    "13\n",
    "14\n",
    "15\n"
   ]
  },
  {
   "cell_type": "code",
   "execution_count": 3,
   "id": "c87183f6",
   "metadata": {},
   "outputs": [
    {
     "name": "stdout",
     "output_type": "stream",
     "text": [
      "5\n",
      "6\n",
      "7\n",
      "8\n",
      "9\n",
      "10\n",
      "11\n",
      "12\n",
      "13\n",
      "14\n",
      "15\n"
     ]
    }
   ],
   "source": [
    "i = 5\n",
    "while i <= 15:\n",
    "    print(i)\n",
    "    i+=1"
   ]
  },
  {
   "cell_type": "code",
   "execution_count": 1,
   "id": "14504cc7",
   "metadata": {},
   "outputs": [
    {
     "name": "stdout",
     "output_type": "stream",
     "text": [
      "5\n",
      "6\n",
      "7\n",
      "8\n",
      "9\n",
      "10\n",
      "11\n",
      "12\n",
      "13\n",
      "14\n",
      "15\n"
     ]
    }
   ],
   "source": [
    "i = 5\n",
    "while i <= 15:\n",
    "    print(i)\n",
    "    i += 1\n"
   ]
  },
  {
   "cell_type": "markdown",
   "id": "9c5ca57a",
   "metadata": {},
   "source": [
    "Create a while loop that will count by 2's starting with 0 and ending at 100. Follow each number with a new line."
   ]
  },
  {
   "cell_type": "code",
   "execution_count": 2,
   "id": "5aeaacd9",
   "metadata": {},
   "outputs": [
    {
     "name": "stdout",
     "output_type": "stream",
     "text": [
      "0\n",
      "2\n",
      "4\n",
      "6\n",
      "8\n",
      "10\n",
      "12\n",
      "14\n",
      "16\n",
      "18\n",
      "20\n",
      "22\n",
      "24\n",
      "26\n",
      "28\n",
      "30\n",
      "32\n",
      "34\n",
      "36\n",
      "38\n",
      "40\n",
      "42\n",
      "44\n",
      "46\n",
      "48\n",
      "50\n",
      "52\n",
      "54\n",
      "56\n",
      "58\n",
      "60\n",
      "62\n",
      "64\n",
      "66\n",
      "68\n",
      "70\n",
      "72\n",
      "74\n",
      "76\n",
      "78\n",
      "80\n",
      "82\n",
      "84\n",
      "86\n",
      "88\n",
      "90\n",
      "92\n",
      "94\n",
      "96\n",
      "98\n",
      "100\n"
     ]
    }
   ],
   "source": [
    "i = 0\n",
    "while i < 101:\n",
    "    print(i)\n",
    "    i += 2"
   ]
  },
  {
   "cell_type": "markdown",
   "id": "e13dafd1",
   "metadata": {},
   "source": [
    "Create a while loop that starts at 2, and displays the number squared on each line while the number is less than 1,000,000. Output should equal:\n",
    "\n",
    "\n",
    " 2\n",
    " 4\n",
    " 16\n",
    " 256\n",
    " 65536\n"
   ]
  },
  {
   "cell_type": "code",
   "execution_count": 5,
   "id": "9ecbccd7",
   "metadata": {},
   "outputs": [
    {
     "name": "stdout",
     "output_type": "stream",
     "text": [
      "2\n",
      "4\n",
      "16\n",
      "256\n",
      "65536\n"
     ]
    }
   ],
   "source": [
    "i = 2\n",
    "while i < 1_000_000:\n",
    "    print(i)\n",
    "    i = i*i\n",
    "    "
   ]
  },
  {
   "cell_type": "markdown",
   "id": "f0e39dfd",
   "metadata": {},
   "source": [
    "Write a while loop that uses print to create the output shown below.\n",
    "\n",
    "\n",
    "100\n",
    "95\n",
    "90\n",
    "85\n",
    "80\n",
    "75\n",
    "70\n",
    "65\n",
    "60\n",
    "55\n",
    "50\n",
    "45\n",
    "40\n",
    "35\n",
    "30\n",
    "25\n",
    "20\n",
    "15\n",
    "10\n",
    "5\n"
   ]
  },
  {
   "cell_type": "code",
   "execution_count": 7,
   "id": "422ce99c",
   "metadata": {},
   "outputs": [
    {
     "name": "stdout",
     "output_type": "stream",
     "text": [
      "100\n",
      "95\n",
      "90\n",
      "85\n",
      "80\n",
      "75\n",
      "70\n",
      "65\n",
      "60\n",
      "55\n",
      "50\n",
      "45\n",
      "40\n",
      "35\n",
      "30\n",
      "25\n",
      "20\n",
      "15\n",
      "10\n",
      "5\n"
     ]
    }
   ],
   "source": [
    "i = 100\n",
    "while i >=5:\n",
    "    print(i)\n",
    "    i -=5"
   ]
  },
  {
   "cell_type": "markdown",
   "id": "987f29bf",
   "metadata": {},
   "source": [
    "For Loops\n",
    "\n",
    "Write some code using a for loop that prompts the user for a number, then shows a multiplication table up through 10 for that number.\n",
    "\n",
    "For example, if the user enters 7, your program should output:\n",
    "\n",
    "\n",
    "7 x 1 = 7\n",
    "7 x 2 = 14\n",
    "7 x 3 = 21\n",
    "7 x 4 = 28\n",
    "7 x 5 = 35\n",
    "7 x 6 = 42\n",
    "7 x 7 = 49\n",
    "7 x 8 = 56\n",
    "7 x 9 = 63\n",
    "7 x 10 = 70"
   ]
  },
  {
   "cell_type": "code",
   "execution_count": 8,
   "id": "8625c3c0",
   "metadata": {},
   "outputs": [
    {
     "name": "stdout",
     "output_type": "stream",
     "text": [
      "Enter a number:3\n",
      "3 x 1 = 3\n",
      "3 x 2 = 6\n",
      "3 x 3 = 9\n",
      "3 x 4 = 12\n",
      "3 x 5 = 15\n",
      "3 x 6 = 18\n",
      "3 x 7 = 21\n",
      "3 x 8 = 24\n",
      "3 x 9 = 27\n",
      "3 x 10 = 30\n"
     ]
    }
   ],
   "source": [
    "user_input = input('Enter a number:')\n",
    "for i in range (1,11):\n",
    "    multiply = int(user_input) * i\n",
    "    \n",
    "    print(f'{user_input} x {i} = {multiply}')"
   ]
  },
  {
   "cell_type": "markdown",
   "id": "472c52ae",
   "metadata": {},
   "source": [
    "Create a for loop that uses print to create the output shown below.\n",
    "\n",
    "\n",
    "1\n",
    "22\n",
    "333\n",
    "4444\n",
    "55555\n",
    "666666\n",
    "7777777\n",
    "88888888\n",
    "999999999\n",
    "break and continue"
   ]
  },
  {
   "cell_type": "code",
   "execution_count": 13,
   "id": "39a886db",
   "metadata": {},
   "outputs": [
    {
     "name": "stdout",
     "output_type": "stream",
     "text": [
      "1\n",
      "22\n",
      "333\n",
      "4444\n",
      "55555\n",
      "666666\n",
      "7777777\n",
      "88888888\n",
      "999999999\n"
     ]
    }
   ],
   "source": [
    "for i in range (1,10):\n",
    "    print(str(i)*i)"
   ]
  },
  {
   "cell_type": "markdown",
   "id": "9d5beeec",
   "metadata": {},
   "source": [
    "Write a program that prompts the user for a positive integer. Next write a loop that prints out the numbers from the number the user entered down to 1."
   ]
  },
  {
   "cell_type": "code",
   "execution_count": 16,
   "id": "463951c4",
   "metadata": {},
   "outputs": [
    {
     "name": "stdout",
     "output_type": "stream",
     "text": [
      "Enter a positive number:8\n",
      "8\n",
      "7\n",
      "6\n",
      "5\n",
      "4\n",
      "3\n",
      "2\n",
      "1\n"
     ]
    }
   ],
   "source": [
    "i = int(input('Enter a positive number:'))\n",
    "while i > 0:\n",
    "    print(i)\n",
    "    i-=1"
   ]
  },
  {
   "cell_type": "markdown",
   "id": "ee21e636",
   "metadata": {},
   "source": [
    "The input function can be used to prompt for input and use that input in your python code. Prompt the user to enter a positive number and write a loop that counts from 0 to that number. (Hints: note that the input function returns a string, so you'll need to convert this to a numeric type.)"
   ]
  },
  {
   "cell_type": "code",
   "execution_count": 2,
   "id": "47f5bc4b",
   "metadata": {},
   "outputs": [
    {
     "name": "stdout",
     "output_type": "stream",
     "text": [
      "Enter a positive number:11\n",
      "0\n",
      "1\n",
      "2\n",
      "3\n",
      "4\n",
      "5\n",
      "6\n",
      "7\n",
      "8\n",
      "9\n",
      "10\n",
      "11\n"
     ]
    }
   ],
   "source": [
    "user_input= int(input('Enter a positive number:'))\n",
    "for i in range(0,user_input+1):\n",
    "    print(i)"
   ]
  },
  {
   "cell_type": "markdown",
   "id": "8e4e1feb",
   "metadata": {},
   "source": [
    "Prompt the user for an odd number between 1 and 50. Use a loop and a break statement to continue prompting the user if they enter invalid input. (Hint: use the isdigit method on strings to determine this). Use a loop and the continue statement to output all the odd numbers between 1 and 50, except for the number the user entered.\n",
    "\n",
    "Your output should look like this:\n",
    "\n",
    "\n",
    "Number to skip is: 27\n",
    "\n",
    "Here is an odd number: 1\n",
    "Here is an odd number: 3\n",
    "Here is an odd number: 5\n",
    "Here is an odd number: 7\n",
    "Here is an odd number: 9\n",
    "Here is an odd number: 11\n",
    "Here is an odd number: 13\n",
    "Here is an odd number: 15\n",
    "Here is an odd number: 17\n",
    "Here is an odd number: 19\n",
    "Here is an odd number: 21\n",
    "Here is an odd number: 23\n",
    "Here is an odd number: 25\n",
    "Yikes! Skipping number: 27\n",
    "Here is an odd number: 29\n",
    "Here is an odd number: 31\n",
    "Here is an odd number: 33\n",
    "Here is an odd number: 35\n",
    "Here is an odd number: 37\n",
    "Here is an odd number: 39\n",
    "Here is an odd number: 41\n",
    "Here is an odd number: 43\n",
    "Here is an odd number: 45\n",
    "Here is an odd number: 47\n",
    "Here is an odd number: 49"
   ]
  },
  {
   "cell_type": "code",
   "execution_count": null,
   "id": "ff85e838",
   "metadata": {},
   "outputs": [],
   "source": [
    "while True:\n",
    "    user_input = input(\"Enter an odd number between 1 and 50: \")\n",
    "\n",
    "    if user_input.isdigit():\n",
    "        user_input = int(user_input)\n",
    "\n",
    "        if 1 <= user_input <= 50 and user_input % 2 == 1:\n",
    "            break\n",
    "        else:\n",
    "            print(\"Invalid input. Please enter an odd number between 1 and 50.\")\n",
    "    else:\n",
    "        print(\"Invalid input. Please enter a valid number.\")\n",
    "\n",
    "print(f\"Number to skip is: {user_input}\")\n",
    "\n",
    "for i in range(1, 51):\n",
    "    if i == user_input:\n",
    "        print(f\"Yikes! Skipping number: {i}\")\n",
    "        continue\n",
    "    if i % 2 == 1:\n",
    "        print(f\"Here is an odd number: {i}\")"
   ]
  },
  {
   "cell_type": "code",
   "execution_count": 9,
   "id": "9818365b",
   "metadata": {},
   "outputs": [
    {
     "name": "stdout",
     "output_type": "stream",
     "text": [
      "Enter an odd number between 1 and 50:33\n",
      "Here is an odd number: 1\n",
      "Here is an odd number: 2\n",
      "Here is an odd number: 3\n",
      "Here is an odd number: 4\n",
      "Here is an odd number: 5\n",
      "Here is an odd number: 6\n",
      "Here is an odd number: 7\n",
      "Here is an odd number: 8\n",
      "Here is an odd number: 9\n",
      "Here is an odd number: 10\n",
      "Here is an odd number: 11\n",
      "Here is an odd number: 12\n",
      "Here is an odd number: 13\n",
      "Here is an odd number: 14\n",
      "Here is an odd number: 15\n",
      "Here is an odd number: 16\n",
      "Here is an odd number: 17\n",
      "Here is an odd number: 18\n",
      "Here is an odd number: 19\n",
      "Here is an odd number: 20\n",
      "Here is an odd number: 21\n",
      "Here is an odd number: 22\n",
      "Here is an odd number: 23\n",
      "Here is an odd number: 24\n",
      "Here is an odd number: 25\n",
      "Here is an odd number: 26\n",
      "Here is an odd number: 27\n",
      "Here is an odd number: 28\n",
      "Here is an odd number: 29\n",
      "Here is an odd number: 30\n",
      "Here is an odd number: 31\n",
      "Here is an odd number: 32\n"
     ]
    }
   ],
   "source": [
    "user_input = int(input('Enter an odd number between 1 and 50:'))\n",
    "i = 1\n",
    "for i in range(1, user_input):\n",
    "    if 1 <= user_input <= 50 and user_input % 2 == 1:\n",
    "        print(f'Here is an odd number: {i}')\n",
    "    \n",
    "    "
   ]
  },
  {
   "cell_type": "markdown",
   "id": "7ee520b3",
   "metadata": {},
   "source": [
    "Fizzbuzz\n",
    "\n",
    "One of the most common interview questions for entry-level programmers is the FizzBuzz test. Developed by Imran Ghory, the test is designed to test basic looping and conditional logic skills.\n",
    "\n",
    "Write a program that prints the numbers from 1 to 100.\n",
    "For multiples of three print \"Fizz\" instead of the number\n",
    "For the multiples of five print \"Buzz\".\n",
    "For numbers which are multiples of both three and five print \"FizzBuzz\".\n",
    "Display a table of powers."
   ]
  },
  {
   "cell_type": "code",
   "execution_count": null,
   "id": "a1cbfb47",
   "metadata": {},
   "outputs": [],
   "source": [
    "if "
   ]
  },
  {
   "cell_type": "markdown",
   "id": "6f8669d2",
   "metadata": {},
   "source": [
    "Prompt the user to enter an integer\n",
    "Display a table of squares and cubes from 1 to the value entered\n",
    "Ask if the user wants to continue\n",
    "Assume that the user will enter valid data\n",
    "Only continue if the user agrees to\n",
    "Example Output\n",
    "\n",
    "\n",
    "What number would you like to go up to? 5\n",
    "\n",
    "Here is your table!\n",
    "\n",
    "number | squared | cubed\n",
    "------ | ------- | -----\n",
    "1      | 1       | 1\n",
    "2      | 4       | 8\n",
    "3      | 9       | 27\n",
    "4      | 16      | 64\n",
    "5      | 25      | 125\n",
    "Convert given number grades into letter grades.\n",
    "\n"
   ]
  },
  {
   "cell_type": "code",
   "execution_count": null,
   "id": "1473d7eb",
   "metadata": {},
   "outputs": [],
   "source": []
  },
  {
   "cell_type": "markdown",
   "id": "cf929bc8",
   "metadata": {},
   "source": [
    "Prompt the user for a numerical grade from 0 to 100\n",
    "Display the corresponding letter grade\n",
    "Prompt the user to continue\n",
    "Assume that the user will enter valid integers for the grades\n",
    "The application should only continue if the user agrees to\n",
    "Grade Ranges:\n",
    "\n",
    "A : 100 - 88\n",
    "B : 87 - 80\n",
    "C : 79 - 67\n",
    "D : 66 - 60\n",
    "F : 59 - 0\n",
    "Create a list of dictionaries where each dictionary represents a book that you have read. Each dictionary in the list should have the keys title, author, and genre. Loop through the list and print out information about each book.\n",
    "\n",
    "Prompt the user to enter a genre, then loop through your books list and print out the titles of all the books in that genre.\n"
   ]
  },
  {
   "cell_type": "code",
   "execution_count": null,
   "id": "73fff4d6",
   "metadata": {},
   "outputs": [],
   "source": []
  },
  {
   "cell_type": "markdown",
   "id": "70071d5a",
   "metadata": {},
   "source": [
    "Bonus Exercises\n",
    "For your Power of Tables exercise, research python's format string specifiers to align the table\n",
    "\n",
    "For your Number Grade to Letter Grade exercise, edit your grade ranges to include pluses and minuses (ex: 99-100 = A+)\n",
    "\n",
    "For practicing with list comprehensions, work through 17 List Comprehension Exercises\n",
    "\n",
    "For even more practice with all your Python tools together, work through 20 Python Data Structure Manipulation Exercises"
   ]
  },
  {
   "cell_type": "code",
   "execution_count": null,
   "id": "d542bbbc",
   "metadata": {},
   "outputs": [],
   "source": []
  },
  {
   "cell_type": "code",
   "execution_count": 3,
   "id": "79e91b54",
   "metadata": {},
   "outputs": [],
   "source": [
    "ls = [100,2,5,33]"
   ]
  },
  {
   "cell_type": "code",
   "execution_count": 7,
   "id": "1b5df5d4",
   "metadata": {},
   "outputs": [
    {
     "data": {
      "text/plain": [
       "[102, 4, 7, 35]"
      ]
     },
     "execution_count": 7,
     "metadata": {},
     "output_type": "execute_result"
    }
   ],
   "source": [
    "ls_plus_two = [n + 2 for n in ls]\n",
    "ls_plus_two"
   ]
  },
  {
   "cell_type": "code",
   "execution_count": 23,
   "id": "be8399aa",
   "metadata": {},
   "outputs": [
    {
     "data": {
      "text/plain": [
       "array([102,   4,   7,  35])"
      ]
     },
     "execution_count": 23,
     "metadata": {},
     "output_type": "execute_result"
    }
   ],
   "source": [
    "import numpy as np\n",
    "ls = np.array([100,2,5,33])\n",
    "ls_plus_two_vectorized = ls + 2\n",
    "ls_plus_two_vectorized"
   ]
  },
  {
   "cell_type": "code",
   "execution_count": 25,
   "id": "4a81d2cb",
   "metadata": {},
   "outputs": [
    {
     "data": {
      "text/plain": [
       "94"
      ]
     },
     "execution_count": 25,
     "metadata": {},
     "output_type": "execute_result"
    }
   ],
   "source": [
    "np.random.randint(60,100)"
   ]
  },
  {
   "cell_type": "markdown",
   "id": "f12e1e11",
   "metadata": {},
   "source": [
    "Prompt the user for a day of the week, print out whether the day is Monday or not"
   ]
  },
  {
   "cell_type": "code",
   "execution_count": 1,
   "id": "386a3cef",
   "metadata": {},
   "outputs": [
    {
     "name": "stdout",
     "output_type": "stream",
     "text": [
      "Enter a day of the week: monday\n",
      "It's Monday\n"
     ]
    }
   ],
   "source": [
    "while True:\n",
    "    user_input = input('Enter a day of the week: ')\n",
    "    if user_input.lower() == 'monday':\n",
    "        print('It\\'s Monday')\n",
    "        break\n",
    "    else:\n",
    "        print('It\\'s not Monday')"
   ]
  },
  {
   "cell_type": "markdown",
   "id": "2752f644",
   "metadata": {},
   "source": [
    "Prompt the user for a day of the week, print out whether the day is a weekday or a weekend"
   ]
  },
  {
   "cell_type": "code",
   "execution_count": 6,
   "id": "a3d47d2d",
   "metadata": {},
   "outputs": [
    {
     "name": "stdout",
     "output_type": "stream",
     "text": [
      "Enter a day of the week: monday\n",
      "It's not the weekend\n",
      "Enter a day of the week: saturday\n",
      "Yay, it's the weekend!\n"
     ]
    }
   ],
   "source": [
    "while True:\n",
    "    user_input = input('Enter a day of the week: ')\n",
    "    if user_input.lower() in ['saturday', 'sunday']:\n",
    "        print('Yay, it\\'s the weekend!')\n",
    "        break\n",
    "    else:\n",
    "        print('It\\'s not the weekend')"
   ]
  },
  {
   "cell_type": "markdown",
   "id": "e718ca9f",
   "metadata": {},
   "source": [
    "Calculate a weekly paycheck, accounting for overtime pay. Create variables and make up values for:\n",
    "\n",
    "The number of hours worked in one week\n",
    "The hourly rate\n",
    "For calculating pay:\n",
    "\n",
    "For working 40 hours or less, each hour is paid at the hourly rate\n",
    "For working more than 40 hours\n",
    "\n",
    "the first 40 hours are paid at the hourly rate\n",
    "\n",
    "each hour after 40 is paid at time and a half (hourly rate * 1.5)"
   ]
  },
  {
   "cell_type": "code",
   "execution_count": 7,
   "id": "30ade10a",
   "metadata": {},
   "outputs": [],
   "source": [
    "hours_worked = 45\n",
    "hourly_salary = 35"
   ]
  },
  {
   "cell_type": "code",
   "execution_count": 10,
   "id": "a7620fa7",
   "metadata": {},
   "outputs": [
    {
     "name": "stdout",
     "output_type": "stream",
     "text": [
      "1662.5\n"
     ]
    }
   ],
   "source": [
    "if hours_worked > 40:\n",
    "    overtime_hours = hours_worked - 40\n",
    "    overtime_pay = overtime_hours * hourly_salary * 1.5\n",
    "    reg_pay = 40 * hourly_salary\n",
    "    paycheck = reg_pay + overtime_pay\n",
    "else:\n",
    "    paycheck = hours_worked * hourly_salary\n",
    "        \n",
    "print(paycheck)"
   ]
  },
  {
   "cell_type": "markdown",
   "id": "aa865996",
   "metadata": {},
   "source": [
    "Loop Basics\n",
    "\n",
    "While\n",
    "\n",
    "Create an integer variable i with a value of 5. Create a while loop that runs so long as i is less than or equal to 15. Each loop iteration, output the current value of i, then increment i by one.\n",
    "Your output should look like this:\n",
    "\n",
    "\n",
    "5\n",
    "6\n",
    "7\n",
    "8\n",
    "9\n",
    "10\n",
    "11\n",
    "12\n",
    "13\n",
    "14\n",
    "15"
   ]
  },
  {
   "cell_type": "code",
   "execution_count": 11,
   "id": "1d5982f5",
   "metadata": {},
   "outputs": [
    {
     "name": "stdout",
     "output_type": "stream",
     "text": [
      "5\n",
      "6\n",
      "7\n",
      "8\n",
      "9\n",
      "10\n",
      "11\n",
      "12\n",
      "13\n",
      "14\n",
      "15\n"
     ]
    }
   ],
   "source": [
    "i = 5\n",
    "while i <= 15:\n",
    "    print(i)\n",
    "    i += 1"
   ]
  },
  {
   "cell_type": "markdown",
   "id": "519bc0ce",
   "metadata": {},
   "source": [
    "Create a while loop that will count by 2's starting with 0 and ending at 100. Follow each number with a new line."
   ]
  },
  {
   "cell_type": "code",
   "execution_count": 12,
   "id": "8ecb4fd1",
   "metadata": {},
   "outputs": [
    {
     "name": "stdout",
     "output_type": "stream",
     "text": [
      "0\n",
      "2\n",
      "4\n",
      "6\n",
      "8\n",
      "10\n",
      "12\n",
      "14\n",
      "16\n",
      "18\n",
      "20\n",
      "22\n",
      "24\n",
      "26\n",
      "28\n",
      "30\n",
      "32\n",
      "34\n",
      "36\n",
      "38\n",
      "40\n",
      "42\n",
      "44\n",
      "46\n",
      "48\n",
      "50\n",
      "52\n",
      "54\n",
      "56\n",
      "58\n",
      "60\n",
      "62\n",
      "64\n",
      "66\n",
      "68\n",
      "70\n",
      "72\n",
      "74\n",
      "76\n",
      "78\n",
      "80\n",
      "82\n",
      "84\n",
      "86\n",
      "88\n",
      "90\n",
      "92\n",
      "94\n",
      "96\n",
      "98\n",
      "100\n"
     ]
    }
   ],
   "source": [
    "i = 0\n",
    "while i <= 100:\n",
    "    print(i)\n",
    "    i += 2"
   ]
  },
  {
   "cell_type": "markdown",
   "id": "1a79c2ae",
   "metadata": {},
   "source": [
    "Create a while loop that starts at 2, and displays the number squared on each line while the number is less than 1,000,000. Output should equal:\n",
    " 2\n",
    " 4\n",
    " 16\n",
    " 256\n",
    " 65536"
   ]
  },
  {
   "cell_type": "code",
   "execution_count": 1,
   "id": "3c0d88d4",
   "metadata": {},
   "outputs": [
    {
     "name": "stdout",
     "output_type": "stream",
     "text": [
      "2\n",
      "4\n",
      "16\n",
      "256\n",
      "65536\n"
     ]
    }
   ],
   "source": [
    "i = 2\n",
    "while i < 1_000_000:\n",
    "    print(i)\n",
    "    i = i*i"
   ]
  },
  {
   "cell_type": "markdown",
   "id": "7d5fd71b",
   "metadata": {},
   "source": [
    "Write a while loop that uses print to create the output shown below.\n",
    "\n",
    "\n",
    "100\n",
    "95\n",
    "90\n",
    "85\n",
    "80\n",
    "75\n",
    "70\n",
    "65\n",
    "60\n",
    "55\n",
    "50\n",
    "45\n",
    "40\n",
    "35\n",
    "30\n",
    "25\n",
    "20\n",
    "15\n",
    "10\n",
    "5"
   ]
  },
  {
   "cell_type": "code",
   "execution_count": 9,
   "id": "63b70062",
   "metadata": {},
   "outputs": [
    {
     "name": "stdout",
     "output_type": "stream",
     "text": [
      "100\n",
      "95\n",
      "90\n",
      "85\n",
      "80\n",
      "75\n",
      "70\n",
      "65\n",
      "60\n",
      "55\n",
      "50\n",
      "45\n",
      "40\n",
      "35\n",
      "30\n",
      "25\n",
      "20\n",
      "15\n",
      "10\n",
      "5\n"
     ]
    }
   ],
   "source": [
    "i = 100\n",
    "while i >= 5:\n",
    "    print(i)\n",
    "    i-= 5"
   ]
  },
  {
   "cell_type": "markdown",
   "id": "3669aaf9",
   "metadata": {},
   "source": [
    "Prompt the user for an odd number between 1 and 50. Use a loop and a break statement to continue prompting the user if they enter invalid input. (Hint: use the isdigit method on strings to determine this). Use a loop and the continue statement to output all the odd numbers between 1 and 50, except for the number the user entered.\n",
    "\n",
    "Your output should look like this:\n",
    "\n",
    "\n",
    "Number to skip is: 27\n",
    "\n",
    "Here is an odd number: 1\n",
    "Here is an odd number: 3\n",
    "Here is an odd number: 5\n",
    "Here is an odd number: 7\n",
    "Here is an odd number: 9\n",
    "Here is an odd number: 11\n",
    "Here is an odd number: 13\n",
    "Here is an odd number: 15\n",
    "Here is an odd number: 17\n",
    "Here is an odd number: 19\n",
    "Here is an odd number: 21\n",
    "Here is an odd number: 23\n",
    "Here is an odd number: 25\n",
    "Yikes! Skipping number: 27\n",
    "Here is an odd number: 29\n",
    "Here is an odd number: 31\n",
    "Here is an odd number: 33\n",
    "Here is an odd number: 35\n",
    "Here is an odd number: 37\n",
    "Here is an odd number: 39\n",
    "Here is an odd number: 41\n",
    "Here is an odd number: 43\n",
    "Here is an odd number: 45\n",
    "Here is an odd number: 47\n",
    "Here is an odd number: 49\n",
    "Fizzbuzz\n",
    "\n",
    "One of the most common interview questions for entry-level programmers is the FizzBuzz test. Developed by Imran Ghory, the test is designed to test basic looping and conditional logic skills.\n",
    "\n",
    "Write a program that prints the numbers from 1 to 100.\n",
    "For multiples of three print \"Fizz\" instead of the number\n",
    "For the multiples of five print \"Buzz\".\n",
    "For numbers which are multiples of both three and five print \"FizzBuzz\".\n",
    "Display a table of powers.\n",
    "\n",
    "Prompt the user to enter an integer\n",
    "Display a table of squares and cubes from 1 to the value entered\n",
    "Ask if the user wants to continue\n",
    "Assume that the user will enter valid data\n",
    "Only continue if the user agrees to\n",
    "Example Output\n",
    "\n",
    "\n",
    "What number would you like to go up to? 5\n",
    "\n",
    "Here is your table!\n",
    "\n",
    "number | squared | cubed\n",
    "------ | ------- | -----\n",
    "1      | 1       | 1\n",
    "2      | 4       | 8\n",
    "3      | 9       | 27\n",
    "4      | 16      | 64\n",
    "5      | 25      | 125\n",
    "Convert given number grades into letter grades.\n",
    "\n",
    "Prompt the user for a numerical grade from 0 to 100\n",
    "Display the corresponding letter grade\n",
    "Prompt the user to continue\n",
    "Assume that the user will enter valid integers for the grades\n",
    "The application should only continue if the user agrees to\n",
    "Grade Ranges:\n",
    "\n",
    "A : 100 - 88\n",
    "B : 87 - 80\n",
    "C : 79 - 67\n",
    "D : 66 - 60\n",
    "F : 59 - 0\n",
    "Create a list of dictionaries where each dictionary represents a book that you have read. Each dictionary in the list should have the keys title, author, and genre. Loop through the list and print out information about each book.\n",
    "\n",
    "Prompt the user to enter a genre, then loop through your books list and print out the titles of all the books in that genre.\n",
    "Bonus Exercises\n",
    "For your Power of Tables exercise, research python's format string specifiers to align the table\n",
    "\n",
    "For your Number Grade to Letter Grade exercise, edit your grade ranges to include pluses and minuses (ex: 99-100 = A+)\n",
    "\n",
    "For practicing with list comprehensions, work through 17 List Comprehension Exercises\n",
    "\n",
    "For even more practice with all your Python tools together, work through 20 Python Data Structure Manipulation Exercises"
   ]
  },
  {
   "cell_type": "markdown",
   "id": "1c9ec061",
   "metadata": {},
   "source": [
    "For Loops\n",
    "\n",
    "Write some code using a for loop that prompts the user for a number, then shows a multiplication table up through 10 for that number.\n",
    "\n",
    "For example, if the user enters 7, your program should output:\n",
    "\n",
    "\n",
    "7 x 1 = 7\n",
    "7 x 2 = 14\n",
    "7 x 3 = 21\n",
    "7 x 4 = 28\n",
    "7 x 5 = 35\n",
    "7 x 6 = 42\n",
    "7 x 7 = 49\n",
    "7 x 8 = 56\n",
    "7 x 9 = 63\n",
    "7 x 10 = 70"
   ]
  },
  {
   "cell_type": "code",
   "execution_count": 17,
   "id": "cc419b12",
   "metadata": {},
   "outputs": [
    {
     "name": "stdout",
     "output_type": "stream",
     "text": [
      "Enter a number:33\n",
      "33 x 1 = 33\n",
      "33 x 2 = 66\n",
      "33 x 3 = 99\n",
      "33 x 4 = 132\n",
      "33 x 5 = 165\n",
      "33 x 6 = 198\n",
      "33 x 7 = 231\n",
      "33 x 8 = 264\n",
      "33 x 9 = 297\n",
      "33 x 10 = 330\n"
     ]
    }
   ],
   "source": [
    "user_input = input('Enter a number:')\n",
    "for i in range(1,11):\n",
    "    multiply = int(user_input) * i\n",
    "    \n",
    "    print(f'{user_input} x {i} = {multiply}')"
   ]
  },
  {
   "cell_type": "markdown",
   "id": "5e480e54",
   "metadata": {},
   "source": [
    "Create a for loop that uses print to create the output shown below.\n",
    "\n",
    "\n",
    "1\n",
    "22\n",
    "333\n",
    "4444\n",
    "55555\n",
    "666666\n",
    "7777777\n",
    "88888888\n",
    "999999999\n",
    "break and continue"
   ]
  },
  {
   "cell_type": "code",
   "execution_count": 19,
   "id": "8a90142f",
   "metadata": {},
   "outputs": [
    {
     "name": "stdout",
     "output_type": "stream",
     "text": [
      "1\n",
      "22\n",
      "333\n",
      "4444\n",
      "55555\n",
      "666666\n",
      "7777777\n",
      "88888888\n",
      "999999999\n"
     ]
    }
   ],
   "source": [
    "for i in range(1,10):\n",
    "    print(str(i)*i)"
   ]
  },
  {
   "cell_type": "markdown",
   "id": "138754b9",
   "metadata": {},
   "source": [
    "Write a program that prompts the user for a positive integer. Next write a loop that prints out the numbers from the number the user entered down to 1."
   ]
  },
  {
   "cell_type": "code",
   "execution_count": 24,
   "id": "607f50f0",
   "metadata": {},
   "outputs": [
    {
     "name": "stdout",
     "output_type": "stream",
     "text": [
      "Enter a positive number:4\n",
      "4\n",
      "3\n",
      "2\n",
      "1\n"
     ]
    }
   ],
   "source": [
    "i = int(input('Enter a positive number:'))\n",
    "while i > 0:\n",
    "    print(i)\n",
    "    i -= 1"
   ]
  },
  {
   "cell_type": "markdown",
   "id": "e250f06c",
   "metadata": {},
   "source": [
    "The input function can be used to prompt for input and use that input in your python code. Prompt the user to enter a positive number and write a loop that counts from 0 to that number. (Hints: note that the input function returns a string, so you'll need to convert this to a numeric type.)"
   ]
  },
  {
   "cell_type": "code",
   "execution_count": 26,
   "id": "efc6ce42",
   "metadata": {},
   "outputs": [
    {
     "name": "stdout",
     "output_type": "stream",
     "text": [
      "Enter a positive number:8\n",
      "0\n",
      "1\n",
      "2\n",
      "3\n",
      "4\n",
      "5\n",
      "6\n",
      "7\n",
      "8\n"
     ]
    }
   ],
   "source": [
    "i = 0\n",
    "user_input = int(input('Enter a positive number:'))\n",
    "while i <= user_input:\n",
    "    print(i)\n",
    "    i+=1\n",
    "    "
   ]
  },
  {
   "cell_type": "code",
   "execution_count": null,
   "id": "768ce7f8",
   "metadata": {},
   "outputs": [],
   "source": []
  }
 ],
 "metadata": {
  "kernelspec": {
   "display_name": "Python 3 (ipykernel)",
   "language": "python",
   "name": "python3"
  },
  "language_info": {
   "codemirror_mode": {
    "name": "ipython",
    "version": 3
   },
   "file_extension": ".py",
   "mimetype": "text/x-python",
   "name": "python",
   "nbconvert_exporter": "python",
   "pygments_lexer": "ipython3",
   "version": "3.11.5"
  }
 },
 "nbformat": 4,
 "nbformat_minor": 5
}
