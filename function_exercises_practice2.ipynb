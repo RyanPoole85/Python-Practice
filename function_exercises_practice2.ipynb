{
 "cells": [
  {
   "cell_type": "markdown",
   "id": "b7df4725",
   "metadata": {},
   "source": [
    "Define a function named is_two. It should accept one input and return True if the passed input is either the number or the string 2, False otherwise."
   ]
  },
  {
   "cell_type": "code",
   "execution_count": 1,
   "id": "79f4d1cb",
   "metadata": {},
   "outputs": [
    {
     "name": "stdout",
     "output_type": "stream",
     "text": [
      "True\n",
      "False\n"
     ]
    }
   ],
   "source": [
    "def is_two(input):\n",
    "    return input == 2 or input == '2'\n",
    "\n",
    "print(is_two(2))\n",
    "print(is_two(3))"
   ]
  },
  {
   "cell_type": "markdown",
   "id": "67764432",
   "metadata": {},
   "source": [
    "Define a function named is_vowel. It should return True if the passed string is a vowel, False otherwise."
   ]
  },
  {
   "cell_type": "code",
   "execution_count": 3,
   "id": "e54828b8",
   "metadata": {},
   "outputs": [
    {
     "name": "stdout",
     "output_type": "stream",
     "text": [
      "True\n",
      "False\n"
     ]
    }
   ],
   "source": [
    "def is_vowel(input):\n",
    "    vowels = 'aeiouAEIOU'\n",
    "    return input in vowels\n",
    "\n",
    "print(is_vowel('a'))\n",
    "print(is_vowel('t'))"
   ]
  },
  {
   "cell_type": "markdown",
   "id": "128434be",
   "metadata": {},
   "source": [
    "Define a function named is_consonant. It should return True if the passed string is a consonant, False otherwise. Use your is_vowel function to accomplish this."
   ]
  },
  {
   "cell_type": "code",
   "execution_count": 4,
   "id": "02a7475d",
   "metadata": {},
   "outputs": [
    {
     "name": "stdout",
     "output_type": "stream",
     "text": [
      "False\n",
      "True\n"
     ]
    }
   ],
   "source": [
    "def is_consonant(input):\n",
    "    vowels = 'aeiouAEIOU'\n",
    "    return input not in vowels\n",
    "\n",
    "print(is_consonant('a'))\n",
    "print(is_consonant('t'))"
   ]
  },
  {
   "cell_type": "markdown",
   "id": "e5327022",
   "metadata": {},
   "source": [
    "Define a function that accepts a string that is a word. The function should capitalize the first letter of the word if the word starts with a consonant."
   ]
  },
  {
   "cell_type": "code",
   "execution_count": 6,
   "id": "2bb4dbae",
   "metadata": {},
   "outputs": [
    {
     "name": "stdout",
     "output_type": "stream",
     "text": [
      "Roger\n",
      "alligator\n"
     ]
    }
   ],
   "source": [
    "def capitalize_consonant(input):\n",
    "    vowels = 'aeiouAEIOU'\n",
    "    if input and input[0] not in vowels:\n",
    "        return input[0].upper() + input[1:]\n",
    "    else:\n",
    "        return input\n",
    "    \n",
    "print(capitalize_consonant('roger'))\n",
    "print(capitalize_consonant('alligator'))"
   ]
  },
  {
   "cell_type": "markdown",
   "id": "bb09408f",
   "metadata": {},
   "source": [
    "Define a function named calculate_tip. It should accept a tip percentage (a number between 0 and 1) and the bill total, and return the amount to tip."
   ]
  },
  {
   "cell_type": "code",
   "execution_count": 7,
   "id": "179b3267",
   "metadata": {},
   "outputs": [
    {
     "name": "stdout",
     "output_type": "stream",
     "text": [
      "5.25\n",
      "11.9\n"
     ]
    }
   ],
   "source": [
    "def calculate_tip(tip_percentage, bill_total):\n",
    "    if 0 <= tip_percentage <= 1:\n",
    "        return tip_percentage * bill_total\n",
    "    \n",
    "print(calculate_tip(0.15, 35))\n",
    "print(calculate_tip(0.34, 35))"
   ]
  },
  {
   "cell_type": "markdown",
   "id": "79bde0c1",
   "metadata": {},
   "source": [
    "Define a function named apply_discount. It should accept a original price, and a discount percentage, and return the price after the discount is applied."
   ]
  },
  {
   "cell_type": "code",
   "execution_count": 11,
   "id": "70d2b741",
   "metadata": {},
   "outputs": [
    {
     "name": "stdout",
     "output_type": "stream",
     "text": [
      "45.0\n",
      "33.54\n"
     ]
    }
   ],
   "source": [
    "def apply_discount(original_price, discount_percentage):\n",
    "    if 0 <= discount_percentage <= 1:\n",
    "        return original_price - (discount_percentage * original_price)\n",
    "    \n",
    "print(apply_discount(50,0.10))\n",
    "print(apply_discount(39,0.14))"
   ]
  },
  {
   "cell_type": "markdown",
   "id": "ab2ff766",
   "metadata": {},
   "source": [
    "Define a function named handle_commas. It should accept a string that is a number that contains commas in it as input, and return a number as output."
   ]
  },
  {
   "cell_type": "code",
   "execution_count": 12,
   "id": "a7d6bef7",
   "metadata": {},
   "outputs": [
    {
     "name": "stdout",
     "output_type": "stream",
     "text": [
      "45445443332.0\n",
      "32345443.0\n"
     ]
    }
   ],
   "source": [
    "def handle_commas(input_string):\n",
    "    input_string = input_string.replace(',','')\n",
    "    try:\n",
    "        number = float(input_string)\n",
    "        return number\n",
    "    except ValueError:\n",
    "        return \"Invalid Input\"\n",
    "\n",
    "print(handle_commas('45,445,443,332'))\n",
    "print(handle_commas('32,345,443'))"
   ]
  },
  {
   "cell_type": "markdown",
   "id": "930c1695",
   "metadata": {},
   "source": [
    "Define a function named get_letter_grade. It should accept a number and return the letter grade associated with that number (A-F)."
   ]
  },
  {
   "cell_type": "code",
   "execution_count": 14,
   "id": "c3aec7aa",
   "metadata": {},
   "outputs": [
    {
     "name": "stdout",
     "output_type": "stream",
     "text": [
      "D\n",
      "A\n"
     ]
    }
   ],
   "source": [
    "def get_letter_grade(numerical_grade):\n",
    "    if 90 <= numerical_grade <= 100:\n",
    "        return 'A'\n",
    "    elif 80 <= numerical_grade < 90:\n",
    "        return 'B'\n",
    "    elif 70 <= numerical_grade < 80:\n",
    "        return 'C'\n",
    "    elif 60 <= numerical_grade < 70:\n",
    "        return 'D'\n",
    "    elif 0 <= numerical_grade < 60:\n",
    "        return 'F'\n",
    "    else:\n",
    "        return 'Invalid grade input'\n",
    "    \n",
    "print(get_letter_grade(67))\n",
    "print(get_letter_grade(93))\n",
    "      "
   ]
  },
  {
   "cell_type": "markdown",
   "id": "37abdbe7",
   "metadata": {},
   "source": [
    "Define a function named remove_vowels that accepts a string and returns a string with all the vowels removed."
   ]
  },
  {
   "cell_type": "code",
   "execution_count": 16,
   "id": "fdc0c14f",
   "metadata": {},
   "outputs": [
    {
     "name": "stdout",
     "output_type": "stream",
     "text": [
      "Dt Scnc fr lf\n",
      "Sn ntn Txs\n"
     ]
    }
   ],
   "source": [
    "def remove_vowels(input_string):\n",
    "    vowels = 'aeiouAEIOU'\n",
    "    return ''.join(char for char in input_string if char not in vowels)\n",
    "\n",
    "print(remove_vowels('Data Science for life'))\n",
    "print(remove_vowels('San Antoino Texas'))"
   ]
  },
  {
   "cell_type": "markdown",
   "id": "bc199a9b",
   "metadata": {},
   "source": [
    "Define a function named normalize_name. It should accept a string and return a valid python identifier, that is:\n",
    "anything that is not a valid python identifier should be removed\n",
    "leading and trailing whitespace should be removed\n",
    "everything should be lowercase\n",
    "spaces should be replaced with underscores\n",
    "for example:\n",
    "Name will become name\n",
    "First Name will become first_name\n",
    "% Completed will become completed"
   ]
  },
  {
   "cell_type": "code",
   "execution_count": 21,
   "id": "b5f62aaa",
   "metadata": {},
   "outputs": [
    {
     "name": "stdout",
     "output_type": "stream",
     "text": [
      "r y a n _ a n t h o n y _ p o o l e\n",
      "n o w _ w e _ a r e _ c o d i n g\n"
     ]
    }
   ],
   "source": [
    "def normalize_name(input_string):\n",
    "    normalized_string = input_string.strip().lower().replace(\" \",\"_\")\n",
    "    normalized_string = ' '.join(char for char in normalized_string if char.isalnum() or char == '_')\n",
    "    \n",
    "    return normalized_string\n",
    "\n",
    "print(normalize_name('Ryan Anthony Poole'))\n",
    "print(normalize_name('Now we are coding'))"
   ]
  },
  {
   "cell_type": "markdown",
   "id": "eebeb1d2",
   "metadata": {},
   "source": [
    "Write a function named cumulative_sum that accepts a list of numbers and returns a list that is the cumulative sum of the numbers in the list.\n",
    "cumulative_sum([1, 1, 1]) returns [1, 2, 3]\n",
    "cumulative_sum([1, 2, 3, 4]) returns [1, 3, 6, 10]"
   ]
  },
  {
   "cell_type": "code",
   "execution_count": 22,
   "id": "91462829",
   "metadata": {},
   "outputs": [
    {
     "name": "stdout",
     "output_type": "stream",
     "text": [
      "[1, 4, 9, 87, 130]\n"
     ]
    }
   ],
   "source": [
    "def cumulative_sum(numbers):\n",
    "    cumulative = []\n",
    "    total = 0\n",
    "    \n",
    "    for num in numbers:\n",
    "        total += num\n",
    "        cumulative.append(total)\n",
    "    return cumulative\n",
    "\n",
    "print(cumulative_sum([1,3,5,78,43]))"
   ]
  },
  {
   "cell_type": "markdown",
   "id": "d7f9a957",
   "metadata": {},
   "source": [
    "Bonus:\n",
    "\n",
    "Create a function named twelveto24. It should accept a string in the format 10:45am or 4:30pm and return a string that is the representation of the time in a 24-hour format. \n",
    "\n",
    "Bonus write a function that does the opposite."
   ]
  },
  {
   "cell_type": "code",
   "execution_count": 25,
   "id": "fd04f535",
   "metadata": {
    "scrolled": true
   },
   "outputs": [
    {
     "name": "stdout",
     "output_type": "stream",
     "text": [
      "07:30\n",
      "19:30\n"
     ]
    }
   ],
   "source": [
    "def twelveto24(time_str):\n",
    "    if time_str[-2:].lower() == 'am':\n",
    "        if time_str[:2] == '12':\n",
    "            return '00' + time_str[2:-2]\n",
    "        else:\n",
    "            return time_str[:-2]\n",
    "    else:\n",
    "        if time_str[:2] == '12':\n",
    "            return time_str[:-2]\n",
    "        else:\n",
    "            hour = int(time_str[:2]) + 12\n",
    "            return str(hour) + time_str[2:-2]\n",
    "\n",
    "print(twelveto24('07:30am'))\n",
    "print(twelveto24('07:30pm'))"
   ]
  },
  {
   "cell_type": "markdown",
   "id": "0da2baae",
   "metadata": {},
   "source": [
    "Create a function named col_index. It should accept a spreadsheet column name, and return the index number of the column.\n",
    "col_index('A') returns 1\n",
    "col_index('B') returns 2\n",
    "col_index('AA') returns 27"
   ]
  },
  {
   "cell_type": "code",
   "execution_count": 30,
   "id": "769f6de1",
   "metadata": {},
   "outputs": [
    {
     "name": "stdout",
     "output_type": "stream",
     "text": [
      "1\n",
      "3\n",
      "50\n"
     ]
    }
   ],
   "source": [
    "def col_index(column_name):\n",
    "    column_name = column_name.upper()\n",
    "    index = 0\n",
    "    \n",
    "    for char in column_name:\n",
    "        index = index * 26 + (ord(char) - ord('A') + 1)\n",
    "        \n",
    "    return index\n",
    "    \n",
    "print(col_index('A'))\n",
    "print(col_index('C'))\n",
    "print(col_index('AX'))"
   ]
  },
  {
   "cell_type": "code",
   "execution_count": null,
   "id": "84d9a761",
   "metadata": {},
   "outputs": [],
   "source": []
  }
 ],
 "metadata": {
  "kernelspec": {
   "display_name": "Python 3 (ipykernel)",
   "language": "python",
   "name": "python3"
  },
  "language_info": {
   "codemirror_mode": {
    "name": "ipython",
    "version": 3
   },
   "file_extension": ".py",
   "mimetype": "text/x-python",
   "name": "python",
   "nbconvert_exporter": "python",
   "pygments_lexer": "ipython3",
   "version": "3.11.5"
  }
 },
 "nbformat": 4,
 "nbformat_minor": 5
}
